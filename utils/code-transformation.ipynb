{
 "cells": [
  {
   "cell_type": "code",
   "execution_count": 1,
   "id": "28cf4f7c-f3b1-46a1-a143-6dae26638eaa",
   "metadata": {},
   "outputs": [],
   "source": [
    "import os\n",
    "from dateutil import parser\n",
    "from transformers import pipeline\n",
    "os.environ[\"TOKENIZERS_PARALLELISM\"] = \"False\"\n",
    "\n",
    "\n",
    "target_countries = ['UK', 'DE', 'FR']\n",
    "customer_data = {}\n",
    "\n",
    "sentiment_predictor = pipeline('sentiment-analysis', model='distilbert-base-uncased-finetuned-sst-2-english')\n",
    "\n",
    "def matches_usecase(text):\n",
    "    return \"complaint\" in text or \"bank account\" in text \n",
    "\n",
    "def sanitize(text):\n",
    "    return text.lower()\n",
    "\n",
    "with open(\"./test.csv\", 'w') as output_file:\n",
    "    with open(\"data/customers.csv\") as file:\n",
    "        for line in file:\n",
    "            parts = line.strip().split(',')\n",
    "            customer_id, customer_email, bank, country, level = parts\n",
    "            is_premium = (level == 'premium')\n",
    "            if country in target_countries:\n",
    "                customer_data[customer_email] = (bank, country, is_premium)\n",
    "    \n",
    "    with open(\"data/mails.csv\") as file:\n",
    "        for line in file:\n",
    "            parts = line.strip().split(\",\")\n",
    "            mail_id, email, raw_date, mail_subject, mail_text = parts\n",
    "            mail_date = parser.parse(raw_date)\n",
    "            if mail_date.year >= 2022 and matches_usecase(mail_text):\n",
    "                if email in customer_data:                \n",
    "                    bank, country, is_premium = customer_data[email]\t\t\t\t\t\n",
    "                    title = sanitize(mail_subject)\n",
    "                    text = sanitize(mail_text)\n",
    "                    sentiment = sentiment_predictor(mail_text)[0]['label'].lower()\n",
    "                    output_file.write(f\"{title}\\t{text}\\t{bank}\\t{country}\\t{sentiment}\\t{is_premium}\\n\")"
   ]
  },
  {
   "cell_type": "code",
   "execution_count": 2,
   "id": "0b1e2608-37b2-4bd5-9a29-2da7189c0d04",
   "metadata": {},
   "outputs": [
    {
     "data": {
      "text/plain": [
       "<function __main__.matches_usecase(text)>"
      ]
     },
     "execution_count": 2,
     "metadata": {},
     "output_type": "execute_result"
    }
   ],
   "source": [
    "local_vars = locals()\n",
    "#local_vars['target_countries']\n",
    "local_vars['matches_usecase']"
   ]
  },
  {
   "cell_type": "code",
   "execution_count": 3,
   "id": "42f84715-e44d-444d-891f-2795d7cc8840",
   "metadata": {},
   "outputs": [
    {
     "name": "stdout",
     "output_type": "stream",
     "text": [
      "hello\tbank account awesome\tDeutsche Bank\tFR\tpositive\tFalse\n",
      "hello\tbank account denied\tDeutsche Bank\tDE\tnegative\tTrue\n",
      "hello\tcomplaint\tDeutsche Bank\tFR\tnegative\tFalse\n",
      "hello\tno complaint only praise\tDeutsche Bank\tDE\tpositive\tTrue\n"
     ]
    }
   ],
   "source": [
    "!cat ./test.csv"
   ]
  },
  {
   "cell_type": "markdown",
   "id": "63fb0b2a-466d-4ccd-8511-4d1d13ef3083",
   "metadata": {},
   "source": [
    "The following code is written in python with for loops and manual data parsing. Please rewrite the code to use a dataframe library called lester. lester has an API similar to pandas and supports the following operations from pandas: 'merge', 'query', 'assign', 'explode', 'rename'. The 'assign' method in lester has two additional parameters: `target_column` and `source_columns`; `target_column` refers to the new column which should be created, while `source_columns` refers to the list of input columns that are used by the expression in `assign`. Please create a single, separate `assign` statement for each new column that is computed. Only respond with python code. Do not iterate over dataframes. The code should contain a single function called `_lester_dataprep`, which returns a single dataframe called `result_df` as result. This final dataframe should have the following columns: title, text, bank, country, is_premium\n"
   ]
  },
  {
   "cell_type": "code",
   "execution_count": 4,
   "id": "1d412556-4c7d-4f5b-abc5-ff5309e42cc8",
   "metadata": {},
   "outputs": [
    {
     "ename": "AttributeError",
     "evalue": "'TrackedDataframe' object has no attribute 'query'",
     "output_type": "error",
     "traceback": [
      "\u001b[0;31m---------------------------------------------------------------------------\u001b[0m",
      "\u001b[0;31mAttributeError\u001b[0m                            Traceback (most recent call last)",
      "Cell \u001b[0;32mIn[4], line 42\u001b[0m\n\u001b[1;32m     38\u001b[0m     result_df \u001b[38;5;241m=\u001b[39m merged_df[[\u001b[38;5;124m'\u001b[39m\u001b[38;5;124mtitle\u001b[39m\u001b[38;5;124m'\u001b[39m, \u001b[38;5;124m'\u001b[39m\u001b[38;5;124mtext\u001b[39m\u001b[38;5;124m'\u001b[39m, \u001b[38;5;124m'\u001b[39m\u001b[38;5;124mbank\u001b[39m\u001b[38;5;124m'\u001b[39m, \u001b[38;5;124m'\u001b[39m\u001b[38;5;124mcountry\u001b[39m\u001b[38;5;124m'\u001b[39m, \u001b[38;5;124m'\u001b[39m\u001b[38;5;124mis_premium\u001b[39m\u001b[38;5;124m'\u001b[39m]]\n\u001b[1;32m     40\u001b[0m     \u001b[38;5;28;01mreturn\u001b[39;00m result_df\n\u001b[0;32m---> 42\u001b[0m result_df \u001b[38;5;241m=\u001b[39m \u001b[43m_lester_dataprep\u001b[49m\u001b[43m(\u001b[49m\u001b[43m)\u001b[49m\n",
      "Cell \u001b[0;32mIn[4], line 17\u001b[0m, in \u001b[0;36m_lester_dataprep\u001b[0;34m()\u001b[0m\n\u001b[1;32m     14\u001b[0m \u001b[38;5;28;01mdef\u001b[39;00m \u001b[38;5;21m_lester_dataprep\u001b[39m():\n\u001b[1;32m     15\u001b[0m     \u001b[38;5;66;03m# Load customer data\u001b[39;00m\n\u001b[1;32m     16\u001b[0m     customer_df \u001b[38;5;241m=\u001b[39m lt\u001b[38;5;241m.\u001b[39mread_csv(\u001b[38;5;124m\"\u001b[39m\u001b[38;5;124mdata/customers.csv\u001b[39m\u001b[38;5;124m\"\u001b[39m, header\u001b[38;5;241m=\u001b[39m\u001b[38;5;28;01mNone\u001b[39;00m, names\u001b[38;5;241m=\u001b[39m[\u001b[38;5;124m'\u001b[39m\u001b[38;5;124mcustomer_id\u001b[39m\u001b[38;5;124m'\u001b[39m, \u001b[38;5;124m'\u001b[39m\u001b[38;5;124mcustomer_email\u001b[39m\u001b[38;5;124m'\u001b[39m, \u001b[38;5;124m'\u001b[39m\u001b[38;5;124mbank\u001b[39m\u001b[38;5;124m'\u001b[39m, \u001b[38;5;124m'\u001b[39m\u001b[38;5;124mcountry\u001b[39m\u001b[38;5;124m'\u001b[39m, \u001b[38;5;124m'\u001b[39m\u001b[38;5;124mlevel\u001b[39m\u001b[38;5;124m'\u001b[39m])\n\u001b[0;32m---> 17\u001b[0m     customer_df \u001b[38;5;241m=\u001b[39m \u001b[43mcustomer_df\u001b[49m\u001b[38;5;241;43m.\u001b[39;49m\u001b[43mquery\u001b[49m(\u001b[38;5;124m'\u001b[39m\u001b[38;5;124mcountry in @target_countries\u001b[39m\u001b[38;5;124m'\u001b[39m)\n\u001b[1;32m     18\u001b[0m     customer_df \u001b[38;5;241m=\u001b[39m customer_df\u001b[38;5;241m.\u001b[39massign(target_column\u001b[38;5;241m=\u001b[39m\u001b[38;5;124m'\u001b[39m\u001b[38;5;124mis_premium\u001b[39m\u001b[38;5;124m'\u001b[39m, source_columns\u001b[38;5;241m=\u001b[39m[\u001b[38;5;124m'\u001b[39m\u001b[38;5;124mlevel\u001b[39m\u001b[38;5;124m'\u001b[39m], func\u001b[38;5;241m=\u001b[39m\u001b[38;5;28;01mlambda\u001b[39;00m row: row[\u001b[38;5;124m'\u001b[39m\u001b[38;5;124mlevel\u001b[39m\u001b[38;5;124m'\u001b[39m] \u001b[38;5;241m==\u001b[39m \u001b[38;5;124m'\u001b[39m\u001b[38;5;124mpremium\u001b[39m\u001b[38;5;124m'\u001b[39m)\n\u001b[1;32m     20\u001b[0m     \u001b[38;5;66;03m# Select relevant columns for merging\u001b[39;00m\n",
      "\u001b[0;31mAttributeError\u001b[0m: 'TrackedDataframe' object has no attribute 'query'"
     ]
    }
   ],
   "source": [
    "import lester as lt\n",
    "from transformers import pipeline\n",
    "from dateutil import parser\n",
    "\n",
    "target_countries = ['UK', 'DE', 'FR']\n",
    "sentiment_predictor = pipeline('sentiment-analysis', model='distilbert-base-uncased-finetuned-sst-2-english')\n",
    "\n",
    "def matches_usecase(text):\n",
    "    return \"complaint\" in text or \"bank account\" in text \n",
    "\n",
    "def sanitize(text):\n",
    "    return text.lower()\n",
    "\n",
    "def _lester_dataprep():\n",
    "    # Load customer data\n",
    "    customer_df = lt.read_csv(\"data/customers.csv\", header=None, names=['customer_id', 'customer_email', 'bank', 'country', 'level'])\n",
    "    customer_df = customer_df.query('country in @target_countries')\n",
    "    customer_df = customer_df.assign(target_column='is_premium', source_columns=['level'], func=lambda row: row['level'] == 'premium')\n",
    "    \n",
    "    # Select relevant columns for merging\n",
    "    customer_df = customer_df[['customer_email', 'bank', 'country', 'is_premium']]\n",
    "    \n",
    "    # Load mails data\n",
    "    mails_df = lt.read_csv(\"data/mails.csv\", header=None, names=['mail_id', 'email', 'raw_date', 'mail_subject', 'mail_text'])\n",
    "    mails_df = mails_df.assign(target_column='mail_date', source_columns=['raw_date'], func=lambda row: parser.parse(row['raw_date']))\n",
    "    mails_df = mails_df.query('mail_date.dt.year >= 2022')\n",
    "    mails_df = mails_df.query('mail_text.apply(matches_usecase)')\n",
    "    \n",
    "    # Merge dataframes\n",
    "    merged_df = lt.merge(mails_df, customer_df, left_on='email', right_on='customer_email')\n",
    "    \n",
    "    # Process and assign new columns\n",
    "    merged_df = merged_df.assign(target_column='title', source_columns=['mail_subject'], func=lambda row: sanitize(row['mail_subject']))\n",
    "    merged_df = merged_df.assign(target_column='text', source_columns=['mail_text'], func=lambda row: sanitize(row['mail_text']))\n",
    "    merged_df = merged_df.assign(target_column='sentiment', source_columns=['mail_text'], func=lambda row: sentiment_predictor(row['mail_text'])[0]['label'].lower())\n",
    "    \n",
    "    # Select the required columns\n",
    "    result_df = merged_df[['title', 'text', 'bank', 'country', 'is_premium']]\n",
    "    \n",
    "    return result_df\n",
    "\n",
    "result_df = _lester_dataprep()"
   ]
  },
  {
   "cell_type": "markdown",
   "id": "e04d5af2-27ee-4ab9-babf-040298770407",
   "metadata": {},
   "source": [
    "In the following Python code, please make sure that all local variables referenced in the `query` function start with '@':"
   ]
  },
  {
   "cell_type": "markdown",
   "id": "1475575f-fbc6-453f-91a5-aceb7bdbefe7",
   "metadata": {},
   "source": [
    "In the following Python code, please rename the function `assign` to `project`, the function `merge` to `join` and the function `query` to `filter`."
   ]
  },
  {
   "cell_type": "code",
   "execution_count": null,
   "id": "3b3d8142-95af-428b-8430-23fe401bf3a9",
   "metadata": {},
   "outputs": [],
   "source": [
    "import lester as lt\n",
    "from transformers import pipeline\n",
    "from dateutil import parser\n",
    "\n",
    "target_countries = ['UK', 'DE', 'FR']\n",
    "sentiment_predictor = pipeline('sentiment-analysis', model='distilbert-base-uncased-finetuned-sst-2-english')\n",
    "\n",
    "def matches_usecase(text):\n",
    "    return \"complaint\" in text or \"bank account\" in text \n",
    "\n",
    "def sanitize(text):\n",
    "    return text.lower()\n",
    "\n",
    "def _lester_dataprep():\n",
    "    # Load customer data\n",
    "    customer_df = lt.read_csv(\"data/customers.csv\", header=None, names=['customer_id', 'customer_email', 'bank', 'country', 'level'])\n",
    "    customer_df = customer_df.filter('country in @target_countries')\n",
    "    customer_df = customer_df.project(target_column='is_premium', source_columns=['level'], func=lambda row: row['level'] == 'premium')\n",
    "    \n",
    "    # Select relevant columns for merging\n",
    "    customer_df = customer_df[['customer_email', 'bank', 'country', 'is_premium']]\n",
    "    \n",
    "    # Load mails data\n",
    "    mails_df = lt.read_csv(\"data/mails.csv\", header=None, names=['mail_id', 'email', 'raw_date', 'mail_subject', 'mail_text'])\n",
    "    mails_df = mails_df.project(target_column='mail_date', source_columns=['raw_date'], func=lambda row: parser.parse(row['raw_date']))\n",
    "    mails_df = mails_df.filter('mail_date.dt.year >= 2022')\n",
    "    mails_df = mails_df.filter('mail_text.apply(matches_usecase)')\n",
    "    \n",
    "    # Merge dataframes\n",
    "    merged_df = lt.join(mails_df, customer_df, left_on='email', right_on='customer_email')\n",
    "    \n",
    "    # Process and assign new columns\n",
    "    merged_df = merged_df.project(target_column='title', source_columns=['mail_subject'], func=lambda row: sanitize(row['mail_subject']))\n",
    "    merged_df = merged_df.project(target_column='text', source_columns=['mail_text'], func=lambda row: sanitize(row['mail_text']))\n",
    "    merged_df = merged_df.project(target_column='sentiment', source_columns=['mail_text'], func=lambda row: sentiment_predictor(row['mail_text'])[0]['label'].lower())\n",
    "    \n",
    "    # Select the required columns\n",
    "    result_df = merged_df[['title', 'text', 'bank', 'country', 'is_premium']]\n",
    "    \n",
    "    return result_df\n",
    "\n",
    "result_df = _lester_dataprep()"
   ]
  },
  {
   "cell_type": "code",
   "execution_count": null,
   "id": "0979f8d4-1945-413e-bfea-20426c2845f2",
   "metadata": {},
   "outputs": [],
   "source": [
    "In the "
   ]
  }
 ],
 "metadata": {
  "kernelspec": {
   "display_name": "Python 3 (ipykernel)",
   "language": "python",
   "name": "python3"
  },
  "language_info": {
   "codemirror_mode": {
    "name": "ipython",
    "version": 3
   },
   "file_extension": ".py",
   "mimetype": "text/x-python",
   "name": "python",
   "nbconvert_exporter": "python",
   "pygments_lexer": "ipython3",
   "version": "3.9.19"
  }
 },
 "nbformat": 4,
 "nbformat_minor": 5
}

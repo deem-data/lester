{
 "cells": [
  {
   "cell_type": "markdown",
   "id": "e80ebd76-f5b3-4839-950b-f31ea889656b",
   "metadata": {},
   "source": [
    "The following Python reads a CSV file and manually encodes the data as feature for a machine learning model. Please rewrite the code to use estimator/transformers from scikit-learn and the ColumnTransformer from scikit learn."
   ]
  },
  {
   "cell_type": "code",
   "execution_count": 22,
   "id": "ea55e004-ac24-4476-bcfa-cba0a274d908",
   "metadata": {},
   "outputs": [
    {
     "name": "stderr",
     "output_type": "stream",
     "text": [
      "/var/folders/ln/t4s9x03j5nz8x1r5tc40xzr00000gn/T/ipykernel_7561/103922980.py:38: RuntimeWarning: invalid value encountered in divide\n",
      "  subject_lengths_column = (subject_lengths_column - np.mean(subject_lengths_column)) / np.std(subject_lengths_column)\n"
     ]
    },
    {
     "data": {
      "text/plain": [
       "(4, 1540)"
      ]
     },
     "execution_count": 22,
     "metadata": {},
     "output_type": "execute_result"
    }
   ],
   "source": [
    "import numpy as np\n",
    "from sentence_transformers import SentenceTransformer\n",
    "\n",
    "sentence_embedder = SentenceTransformer(\"all-mpnet-base-v2\")\n",
    "\n",
    "def count_words(text):\n",
    "    return len(text.split(\" \"))\n",
    "\n",
    "country_indices = {'DE': 0, 'FR': 1, 'UK': 2}\n",
    "\n",
    "subjects = []\n",
    "subject_lengths = []\n",
    "texts = []\n",
    "countries = []\n",
    "labels = []\n",
    "\n",
    "with open(\"./test.csv\") as file:\n",
    "    for line in file:\n",
    "        parts = line.strip().split(\"\\t\")\n",
    "        subject, text, bank, country, sentiment, is_premium = parts\n",
    "\n",
    "        subjects.append(subject)\n",
    "        subject_lengths.append(len(subject))\n",
    "        texts.append(text)\n",
    "        countries.append(country)\n",
    "\n",
    "        if sentiment == 'negative' and is_premium == 'True':\n",
    "            labels.append(1)\n",
    "        else:\n",
    "            labels.append(0)\n",
    "\n",
    "\n",
    "\n",
    "\n",
    "subject_embeddings = sentence_embedder.encode(subjects)\n",
    "text_embeddings = sentence_embedder.encode(texts)\n",
    "subject_lengths_column = np.array(subject_lengths)\n",
    "subject_lengths_column = (subject_lengths_column - np.mean(subject_lengths_column)) / np.std(subject_lengths_column)\n",
    "\n",
    "country_onehot = np.zeros((len(countries), len(country_indices)))\n",
    "for row, country in enumerate(countries):\n",
    "    country_onehot[row, country_indices[country]] = 1.0\n",
    "    \n",
    "\n",
    "X = np.concatenate((\n",
    "    subject_embeddings, \n",
    "    text_embeddings,\n",
    "    subject_lengths_column.reshape(-1,1),\n",
    "    country_onehot\n",
    "), axis=1)\n",
    "\n",
    "y = np.array(labels)\n",
    "\n",
    "X.shape"
   ]
  },
  {
   "cell_type": "code",
   "execution_count": null,
   "id": "d0b1710a-f3da-47e4-b6e0-4ba96119d59c",
   "metadata": {},
   "outputs": [],
   "source": []
  },
  {
   "cell_type": "code",
   "execution_count": null,
   "id": "5226d81f-807f-4c39-aa13-a936c5f6f4d9",
   "metadata": {},
   "outputs": [],
   "source": []
  }
 ],
 "metadata": {
  "kernelspec": {
   "display_name": "Python 3 (ipykernel)",
   "language": "python",
   "name": "python3"
  },
  "language_info": {
   "codemirror_mode": {
    "name": "ipython",
    "version": 3
   },
   "file_extension": ".py",
   "mimetype": "text/x-python",
   "name": "python",
   "nbconvert_exporter": "python",
   "pygments_lexer": "ipython3",
   "version": "3.9.19"
  }
 },
 "nbformat": 4,
 "nbformat_minor": 5
}

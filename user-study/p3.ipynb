{
 "cells": [
  {
   "cell_type": "markdown",
   "metadata": {
    "colab_type": "text",
    "id": "view-in-github"
   },
   "source": [
    "<a href=\"https://colab.research.google.com/gist/effyli/e4e855cc3eb819114eda53d24966e03f/copy-of-freamon-user-study.ipynb\" target=\"_parent\"><img src=\"https://colab.research.google.com/assets/colab-badge.svg\" alt=\"Open In Colab\"/></a>"
   ]
  },
  {
   "cell_type": "code",
   "execution_count": 2,
   "metadata": {
    "colab": {
     "base_uri": "https://localhost:8080/"
    },
    "id": "TPYYmf6g9nXI",
    "outputId": "2ad5e06a-e67d-4379-a7cd-a46b1211cefd"
   },
   "outputs": [
    {
     "name": "stdout",
     "output_type": "stream",
     "text": [
      "\u001b[33mDEPRECATION: Configuring installation scheme with distutils config files is deprecated and will no longer work in the near future. If you are using a Homebrew or Linuxbrew Python, please see discussion at https://github.com/Homebrew/homebrew-core/issues/76621\u001b[0m\n",
      "Collecting faker\n",
      "  Downloading Faker-13.11.1-py3-none-any.whl (1.5 MB)\n",
      "     |████████████████████████████████| 1.5 MB 2.5 MB/s            \n",
      "\u001b[?25hRequirement already satisfied: python-dateutil>=2.4 in /usr/local/lib/python3.9/site-packages (from faker) (2.8.2)\n",
      "Requirement already satisfied: six>=1.5 in /usr/local/lib/python3.9/site-packages (from python-dateutil>=2.4->faker) (1.16.0)\n",
      "Installing collected packages: faker\n",
      "\u001b[33m  DEPRECATION: Configuring installation scheme with distutils config files is deprecated and will no longer work in the near future. If you are using a Homebrew or Linuxbrew Python, please see discussion at https://github.com/Homebrew/homebrew-core/issues/76621\u001b[0m\n",
      "\u001b[33mDEPRECATION: Configuring installation scheme with distutils config files is deprecated and will no longer work in the near future. If you are using a Homebrew or Linuxbrew Python, please see discussion at https://github.com/Homebrew/homebrew-core/issues/76621\u001b[0m\n",
      "Successfully installed faker-13.11.1\n",
      "\u001b[33mWARNING: You are using pip version 21.3.1; however, version 22.1 is available.\n",
      "You should consider upgrading via the '/usr/local/opt/python@3.9/bin/python3.9 -m pip install --upgrade pip' command.\u001b[0m\n",
      "Note: you may need to restart the kernel to use updated packages.\n"
     ]
    }
   ],
   "source": [
    "%pip install faker"
   ]
  },
  {
   "cell_type": "code",
   "execution_count": 3,
   "metadata": {
    "id": "ilXTZZ4K8JgR"
   },
   "outputs": [],
   "source": [
    "import pandas as pd\n",
    "import numpy as np\n",
    "from faker import Faker\n",
    "import datetime\n",
    "from sklearn.preprocessing import OneHotEncoder, label_binarize, StandardScaler\n",
    "from sklearn.compose import ColumnTransformer\n",
    "from sklearn.linear_model import SGDClassifier\n",
    "from sklearn.feature_extraction.text import HashingVectorizer\n",
    "from sklearn.pipeline import Pipeline"
   ]
  },
  {
   "cell_type": "code",
   "execution_count": 4,
   "metadata": {
    "id": "nJmIwT0a805d"
   },
   "outputs": [],
   "source": [
    "def load_data():\n",
    "\n",
    "  print(\"  Data access - Loading all four input relations from github\")\n",
    "\n",
    "  base_url = 'https://github.com/schelterlabs/arguseyes/raw/freamon/arguseyes/example_pipelines/datasets/freamon'  \n",
    "\n",
    "  reviews = pd.read_csv(f'{base_url}/reviews.csv.gz', compression='gzip', index_col=0)\n",
    "  ratings = pd.read_csv(f'{base_url}/ratings.csv', index_col=0)\n",
    "  products = pd.read_csv(f'{base_url}/products.csv', index_col=0)\n",
    "  categories = pd.read_csv(f'{base_url}/categories.csv', index_col=0)\n",
    "\n",
    "  return reviews, ratings, products, categories"
   ]
  },
  {
   "cell_type": "code",
   "execution_count": 5,
   "metadata": {
    "id": "GQ19UKmB93dh"
   },
   "outputs": [],
   "source": [
    "def random_subset(arr):\n",
    "  size = np.random.randint(low=1, high=len(arr)+1)\n",
    "  choice = np.random.choice(arr, size=size, replace=False)\n",
    "  return [str(item) for item in choice]"
   ]
  },
  {
   "cell_type": "code",
   "execution_count": 6,
   "metadata": {
    "id": "hbEgdmQZ9fqS"
   },
   "outputs": [],
   "source": [
    "def integrate_data(reviews, ratings, products, categories, fake):\n",
    "  start_date = fake.date_between(start_date=datetime.date(year=2011, month=1, day=1),\n",
    "                                  end_date=datetime.date(year=2013, month=6, day=1))\n",
    "\n",
    "  print(f\"  Data Integration - Dropping reviews written before {start_date.strftime('%Y-%m-%d')}\")\n",
    "  reviews = reviews[reviews.review_date >= start_date.strftime('%Y-%m-%d')]\n",
    "\n",
    "  reviews_with_ratings = reviews.merge(ratings, on='review_id')\n",
    "  products_with_categories = products.merge(left_on='category_id', right_on='id', right=categories)\n",
    "\n",
    "  random_categories = random_subset(list(categories.category))\n",
    "  print(f\"  Data Integration - restricting products to the following categories {random_categories}\")\n",
    "  products_with_categories = products_with_categories[products_with_categories.category.isin(random_categories)]\n",
    "\n",
    "  reviews_with_products_and_ratings = reviews_with_ratings.merge(products_with_categories, on='product_id')\n",
    "\n",
    "  print(f\"  Data Integration - joined reviews, ratings, products & categories\")\n",
    "  return reviews_with_products_and_ratings"
   ]
  },
  {
   "cell_type": "code",
   "execution_count": 7,
   "metadata": {
    "id": "eK-YXgMH9wpi"
   },
   "outputs": [],
   "source": [
    "def compute_feature_and_label_data(reviews_with_products_and_ratings, final_columns, fake):\n",
    "  reviews_with_products_and_ratings['product_title'] = \\\n",
    "      reviews_with_products_and_ratings['product_title'].fillna(value='')\n",
    "\n",
    "  reviews_with_products_and_ratings['review_headline'] = \\\n",
    "      reviews_with_products_and_ratings['review_headline'].fillna(value='')\n",
    "\n",
    "  reviews_with_products_and_ratings['review_body'] = \\\n",
    "      reviews_with_products_and_ratings['review_body'].fillna(value='')\n",
    "\n",
    "  num_text_columns = np.random.randint(low=1, high=4)\n",
    "  random_text_columns = np.random.choice(['product_title', 'review_headline', 'review_body'],\n",
    "                                          size=num_text_columns, replace=False)\n",
    "\n",
    "  print(f\"  Data preparation - using columns {random_text_columns} as textual feature \")\n",
    "  reviews_with_products_and_ratings['text'] = ' '\n",
    "  for text_column in random_text_columns:\n",
    "      reviews_with_products_and_ratings['text'] = reviews_with_products_and_ratings['text'] + ' ' \\\n",
    "                                                  + reviews_with_products_and_ratings[text_column]\n",
    "\n",
    "  reviews_with_products_and_ratings['is_helpful'] = reviews_with_products_and_ratings['helpful_votes'] > 0\n",
    "\n",
    "  print(f\"  Projecting data to the feature and label columns {final_columns}\")\n",
    "  projected_reviews = reviews_with_products_and_ratings[final_columns]\n",
    "\n",
    "  split_date = fake.date_between(start_date=datetime.date(year=2013, month=12, day=1),\n",
    "                                  end_date=datetime.date(year=2015, month=1, day=1))\n",
    "\n",
    "  print(f\"  Data preparation - temporal train/test split based on date {split_date}\")\n",
    "  train_data = projected_reviews[projected_reviews.review_date <= split_date.strftime('%Y-%m-%d')]\n",
    "  train_labels = label_binarize(train_data['is_helpful'], classes=[True, False]).ravel()\n",
    "\n",
    "  test_data = projected_reviews[projected_reviews.review_date > split_date.strftime('%Y-%m-%d')]\n",
    "  test_labels = label_binarize(test_data['is_helpful'], classes=[True, False]).ravel()\n",
    "\n",
    "  return train_data, train_labels, test_data, test_labels"
   ]
  },
  {
   "cell_type": "code",
   "execution_count": 8,
   "metadata": {
    "id": "NH_bep9J-Imh"
   },
   "outputs": [],
   "source": [
    "def define_model(numerical_columns, categorical_columns):\n",
    "  print(f\"  Feature encoding - Setting up feature transformations\")\n",
    "  feature_transformation = ColumnTransformer(transformers=[\n",
    "    ('numerical_features', StandardScaler(), numerical_columns),\n",
    "    ('categorical_features', OneHotEncoder(handle_unknown='ignore'), categorical_columns),\n",
    "    ('textual_features', HashingVectorizer(ngram_range=(1, 3), n_features=100), 'text'),\n",
    "  ], remainder=\"drop\")\n",
    "\n",
    "  print(f\"  Modeling - defining a logistic regression model\")\n",
    "  sklearn_model = Pipeline([\n",
    "    ('features', feature_transformation),\n",
    "    ('learner', SGDClassifier(loss='log', penalty='l1', max_iter=1000))])\n",
    "\n",
    "  return sklearn_model"
   ]
  },
  {
   "cell_type": "code",
   "execution_count": 9,
   "metadata": {},
   "outputs": [],
   "source": [
    "def perf_measure(y_actual, y_hat):\n",
    "    TP = 0\n",
    "    FP = 0\n",
    "    TN = 0\n",
    "    FN = 0\n",
    "\n",
    "    for i in range(len(y_hat)): \n",
    "        if y_actual[i]==y_hat[i]==1:\n",
    "           TP += 1\n",
    "        if y_hat[i]==1 and y_actual[i]!=y_hat[i]:\n",
    "           FP += 1\n",
    "        if y_actual[i]==y_hat[i]==0:\n",
    "           TN += 1\n",
    "        if y_hat[i]==0 and y_actual[i]!=y_hat[i]:\n",
    "           FN += 1\n",
    "\n",
    "    return(TP, FP, TN, FN)"
   ]
  },
  {
   "cell_type": "code",
   "execution_count": 10,
   "metadata": {},
   "outputs": [],
   "source": [
    "def compute_eq_oppo(test_data, test_labels, model):\n",
    "    # the FN rate for data from the third party - the FN rate for data from non-third party\n",
    "    p_labels = model.predict(test_data)\n",
    "    third_ids = test_data.index[test_data['third_party'] == 'Y'].tolist()\n",
    "    not_third_ids = test_data.index[test_data['third_party'] == 'N'].tolist()\n",
    "    keys = test_data.index.tolist()\n",
    "    third_y_actual = []\n",
    "    third_y_hat = []\n",
    "    not_third_y_actual = []\n",
    "    not_third_y_hat =[]\n",
    "    for i in third_ids:\n",
    "        index = keys.index(i)\n",
    "        third_y_actual.append(test_labels[index])\n",
    "        third_y_hat.append(p_labels[index])\n",
    "    for j in not_third_ids:\n",
    "        index = keys.index(j)\n",
    "        not_third_y_actual.append(test_labels[index])\n",
    "        not_third_y_hat.append(p_labels[index])\n",
    "    _,_,_,third_FN = perf_measure(third_y_actual, third_y_hat)\n",
    "    _,_,_,not_third_FN = perf_measure(not_third_y_actual, not_third_y_hat)\n",
    "    _,_,_,FN = perf_measure(p_labels, test_labels)\n",
    "    return abs(third_FN/FN - not_third_FN/FN)"
   ]
  },
  {
   "cell_type": "code",
   "execution_count": 11,
   "metadata": {},
   "outputs": [],
   "source": [
    "def train_ratings(test_data):\n",
    "    keys = test_data.index.tolist()\n",
    "    keys = np.array(keys)\n",
    "    return keys"
   ]
  },
  {
   "cell_type": "code",
   "execution_count": 12,
   "metadata": {},
   "outputs": [
    {
     "ename": "NameError",
     "evalue": "name 'test_data' is not defined",
     "output_type": "error",
     "traceback": [
      "\u001b[0;31m---------------------------------------------------------------------------\u001b[0m",
      "\u001b[0;31mNameError\u001b[0m                                 Traceback (most recent call last)",
      "\u001b[0;32m/var/folders/dk/pbhh8rgn191dtpwnbsn_q1mm0000gn/T/ipykernel_17701/3675858257.py\u001b[0m in \u001b[0;36m<module>\u001b[0;34m\u001b[0m\n\u001b[0;32m----> 1\u001b[0;31m \u001b[0mtrain_ratings\u001b[0m\u001b[0;34m(\u001b[0m\u001b[0mtest_data\u001b[0m\u001b[0;34m)\u001b[0m\u001b[0;34m\u001b[0m\u001b[0;34m\u001b[0m\u001b[0m\n\u001b[0m",
      "\u001b[0;31mNameError\u001b[0m: name 'test_data' is not defined"
     ]
    }
   ],
   "source": [
    "train_ratings(test_data)"
   ]
  },
  {
   "cell_type": "markdown",
   "metadata": {
    "id": "2Fw-y6bKB-bz"
   },
   "source": [
    "\n",
    "### Task 1 - Group Fairness\n",
    "\n",
    "__Compute the fairness of the pipeline with respect to third party reviews__. In particular, compute the [equal opportunity](https://en.wikipedia.org/wiki/Fairness_(machine_learning)#Group_Fairness_criteria) metric (the difference in false negative rates) between reviews from a third party and reviews not from a third party.\n",
    "\n",
    "### Task 2 - Data Usage\n",
    "\n",
    "__Compute which records from the ratings and products relation are used to train the classifier__. Compute two boolean arrays with a dimensionality similar to the cardinality of the relations, where the entry at position i denotes whether the i-th record is included in the training data of the classifier. \n"
   ]
  },
  {
   "cell_type": "code",
   "execution_count": 13,
   "metadata": {
    "id": "nbbZc5qk-Qnr"
   },
   "outputs": [],
   "source": [
    "def execute_pipeline(seed):\n",
    "  fake = Faker()\n",
    "  fake.seed_instance(seed)\n",
    "  np.random.seed(seed)\n",
    "\n",
    "  print('---------------------------------------------------------------------')\n",
    "  print(f'Executing pipeline with seed {seed}')\n",
    "  print('---------------------------------------------------------------------')\n",
    "\n",
    "  numerical_columns = random_subset(['total_votes', 'star_rating'])\n",
    "  categorical_columns = random_subset(['customer_id', 'product_id', 'vine', 'category'])\n",
    "  final_columns = numerical_columns + categorical_columns + ['text', 'is_helpful', 'review_date'] + ['third_party']\n",
    "\n",
    "  reviews, ratings, products, categories = load_data()\n",
    "\n",
    "  integrated_data = integrate_data(reviews, ratings, products, categories, fake)\n",
    "  train_data, train_labels, test_data, test_labels = \\\n",
    "      compute_feature_and_label_data(integrated_data, final_columns, fake)\n",
    "\n",
    "  sklearn_model = define_model(numerical_columns, categorical_columns)\n",
    "\n",
    "  model = sklearn_model.fit(train_data, train_labels)\n",
    "\n",
    "  # TODO these must be computed by you\n",
    "  equal_opportunity = compute_eq_oppo(test_data, test_labels, model)\n",
    "  ratings_usage = np.full(len(ratings), False)\n",
    "  products_usage = np.full(len(products), False)\n",
    "\n",
    "  print('---------------------------------------------------------------------')\n",
    "  print('Train accuracy', model.score(train_data, train_labels))\n",
    "  print('Test accuracy', model.score(test_data, test_labels))\n",
    "  print(f'Equal opportunity w.r.t. third party reviews {equal_opportunity}')\n",
    "  print(f'# Number of ratings used {np.sum(ratings_usage)}')\n",
    "  print(f'# Number of products used {np.sum(products_usage)}')\n",
    "  print('---------------------------------------------------------------------\\n\\n')\n"
   ]
  },
  {
   "cell_type": "code",
   "execution_count": 14,
   "metadata": {},
   "outputs": [
    {
     "name": "stdout",
     "output_type": "stream",
     "text": [
      "---------------------------------------------------------------------\n",
      "Executing pipeline with seed 1234\n",
      "---------------------------------------------------------------------\n",
      "  Data access - Loading all four input relations from github\n",
      "  Data Integration - Dropping reviews written before 2012-11-15\n",
      "  Data Integration - restricting products to the following categories ['Digital_Video_Games']\n",
      "  Data Integration - joined reviews, ratings, products & categories\n",
      "  Data preparation - using columns ['review_body' 'product_title'] as textual feature \n",
      "  Projecting data to the feature and label columns ['total_votes', 'star_rating', 'category', 'vine', 'customer_id', 'text', 'is_helpful', 'review_date', 'third_party']\n",
      "  Data preparation - temporal train/test split based on date 2014-03-01\n",
      "  Feature encoding - Setting up feature transformations\n",
      "  Modeling - defining a logistic regression model\n",
      "---------------------------------------------------------------------\n",
      "Train accuracy 0.8447098976109215\n",
      "Test accuracy 0.8784434598343287\n",
      "Equal opportunity w.r.t. third party reviews 0.16337591947348043\n",
      "# Number of ratings used 0\n",
      "# Number of products used 0\n",
      "---------------------------------------------------------------------\n",
      "\n",
      "\n"
     ]
    }
   ],
   "source": [
    "execute_pipeline(1234)"
   ]
  },
  {
   "cell_type": "code",
   "execution_count": null,
   "metadata": {
    "colab": {
     "base_uri": "https://localhost:8080/"
    },
    "id": "ytf_9imO-cX-",
    "outputId": "7d215c35-0a61-4f86-8325-a7f832400e1d"
   },
   "outputs": [],
   "source": [
    "seeds_to_evaluate = [1234, 5678, 91011, 121314, 151617]\n",
    "for seed in seeds_to_evaluate:\n",
    "  execute_pipeline(seed)"
   ]
  }
 ],
 "metadata": {
  "colab": {
   "collapsed_sections": [],
   "include_colab_link": true,
   "name": "Copy of freamon-user-study.ipynb",
   "provenance": []
  },
  "kernelspec": {
   "display_name": "Python 3 (ipykernel)",
   "language": "python",
   "name": "python3"
  },
  "language_info": {
   "codemirror_mode": {
    "name": "ipython",
    "version": 3
   },
   "file_extension": ".py",
   "mimetype": "text/x-python",
   "name": "python",
   "nbconvert_exporter": "python",
   "pygments_lexer": "ipython3",
   "version": "3.9.10"
  }
 },
 "nbformat": 4,
 "nbformat_minor": 1
}

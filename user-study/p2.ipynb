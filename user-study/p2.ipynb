{
 "cells": [
  {
   "cell_type": "code",
   "execution_count": 1,
   "metadata": {
    "colab": {
     "base_uri": "https://localhost:8080/"
    },
    "id": "TPYYmf6g9nXI",
    "outputId": "af687a8c-0493-4cee-e6f1-c1ccd838dc72"
   },
   "outputs": [
    {
     "name": "stdout",
     "output_type": "stream",
     "text": [
      "Collecting faker\n",
      "  Downloading Faker-13.11.1-py3-none-any.whl (1.5 MB)\n",
      "\u001b[K     |████████████████████████████████| 1.5 MB 4.7 MB/s \n",
      "\u001b[?25hRequirement already satisfied: typing-extensions>=3.10.0.2 in /usr/local/lib/python3.7/dist-packages (from faker) (4.2.0)\n",
      "Requirement already satisfied: python-dateutil>=2.4 in /usr/local/lib/python3.7/dist-packages (from faker) (2.8.2)\n",
      "Requirement already satisfied: six>=1.5 in /usr/local/lib/python3.7/dist-packages (from python-dateutil>=2.4->faker) (1.15.0)\n",
      "Installing collected packages: faker\n",
      "Successfully installed faker-13.11.1\n"
     ]
    }
   ],
   "source": [
    "!pip install faker"
   ]
  },
  {
   "cell_type": "code",
   "execution_count": 1,
   "metadata": {
    "id": "ilXTZZ4K8JgR"
   },
   "outputs": [],
   "source": [
    "import pandas as pd\n",
    "import numpy as np\n",
    "from faker import Faker\n",
    "import datetime\n",
    "from sklearn.preprocessing import OneHotEncoder, label_binarize, StandardScaler\n",
    "from sklearn.compose import ColumnTransformer\n",
    "from sklearn.linear_model import SGDClassifier\n",
    "from sklearn.feature_extraction.text import HashingVectorizer\n",
    "from sklearn.pipeline import Pipeline"
   ]
  },
  {
   "cell_type": "code",
   "execution_count": 2,
   "metadata": {
    "id": "nJmIwT0a805d"
   },
   "outputs": [],
   "source": [
    "def load_data():\n",
    "\n",
    "  print(\"  Data access - Loading all four input relations from github\")\n",
    "\n",
    "  base_url = 'https://github.com/schelterlabs/arguseyes/raw/freamon/arguseyes/example_pipelines/datasets/freamon'  \n",
    "\n",
    "  reviews = pd.read_csv(f'{base_url}/reviews.csv.gz', compression='gzip', index_col=0)\n",
    "  ratings = pd.read_csv(f'{base_url}/ratings.csv', index_col=0)\n",
    "  ratings['rating_id'] = ratings.index\n",
    "\n",
    "  products = pd.read_csv(f'{base_url}/products.csv', index_col=0)\n",
    "  categories = pd.read_csv(f'{base_url}/categories.csv', index_col=0)\n",
    "\n",
    "  return reviews, ratings, products, categories"
   ]
  },
  {
   "cell_type": "code",
   "execution_count": 3,
   "metadata": {
    "colab": {
     "base_uri": "https://localhost:8080/"
    },
    "id": "nfOOfhioGX5d",
    "outputId": "6367c676-97ba-46ac-bff6-abd701f0d248"
   },
   "outputs": [
    {
     "name": "stdout",
     "output_type": "stream",
     "text": [
      "  Data access - Loading all four input relations from github\n"
     ]
    }
   ],
   "source": [
    "reviews, ratings, products, categories = load_data()"
   ]
  },
  {
   "cell_type": "code",
   "execution_count": 4,
   "metadata": {
    "id": "GQ19UKmB93dh"
   },
   "outputs": [],
   "source": [
    "def random_subset(arr):\n",
    "  size = np.random.randint(low=1, high=len(arr)+1)\n",
    "  choice = np.random.choice(arr, size=size, replace=False)\n",
    "  return [str(item) for item in choice]"
   ]
  },
  {
   "cell_type": "code",
   "execution_count": 5,
   "metadata": {
    "id": "hbEgdmQZ9fqS"
   },
   "outputs": [],
   "source": [
    "def integrate_data(reviews, ratings, products, categories, fake):\n",
    "  start_date = fake.date_between(start_date=datetime.date(year=2011, month=1, day=1),\n",
    "                                  end_date=datetime.date(year=2013, month=6, day=1))\n",
    "\n",
    "  print(f\"  Data Integration - Dropping reviews written before {start_date.strftime('%Y-%m-%d')}\")\n",
    "  reviews = reviews[reviews.review_date >= start_date.strftime('%Y-%m-%d')]\n",
    "\n",
    "  reviews_with_ratings = reviews.merge(ratings, on='review_id')\n",
    "  products_with_categories = products.merge(left_on='category_id', right_on='id', right=categories)\n",
    "\n",
    "  random_categories = random_subset(list(categories.category))\n",
    "  print(f\"  Random categories selected: {random_categories}\")\n",
    "  print(f\"  Data Integration - restricting products to the following categories {random_categories}\")\n",
    "  products_with_categories = products_with_categories[products_with_categories.category.isin(random_categories)]\n",
    "\n",
    "  reviews_with_products_and_ratings = reviews_with_ratings.merge(products_with_categories, on='product_id')\n",
    "\n",
    "  used_rating_ids = reviews_with_products_and_ratings['rating_id']\n",
    "  used_product_ids = reviews_with_products_and_ratings['product_id']\n",
    "  print(f\"  Data Integration - joined reviews, ratings, products & categories\")\n",
    "  return reviews_with_products_and_ratings, used_rating_ids, used_product_ids"
   ]
  },
  {
   "cell_type": "code",
   "execution_count": 6,
   "metadata": {
    "id": "eK-YXgMH9wpi"
   },
   "outputs": [],
   "source": [
    "def compute_feature_and_label_data(reviews_with_products_and_ratings, final_columns, fake):\n",
    "  reviews_with_products_and_ratings['product_title'] = \\\n",
    "      reviews_with_products_and_ratings['product_title'].fillna(value='')\n",
    "\n",
    "  reviews_with_products_and_ratings['review_headline'] = \\\n",
    "      reviews_with_products_and_ratings['review_headline'].fillna(value='')\n",
    "\n",
    "  reviews_with_products_and_ratings['review_body'] = \\\n",
    "      reviews_with_products_and_ratings['review_body'].fillna(value='')\n",
    "\n",
    "  num_text_columns = np.random.randint(low=1, high=4)\n",
    "  random_text_columns = np.random.choice(['product_title', 'review_headline', 'review_body'],\n",
    "                                          size=num_text_columns, replace=False)\n",
    "\n",
    "  print(f\"  Data preparation - using columns {random_text_columns} as textual feature \")\n",
    "  reviews_with_products_and_ratings['text'] = ' '\n",
    "  for text_column in random_text_columns:\n",
    "      reviews_with_products_and_ratings['text'] = reviews_with_products_and_ratings['text'] + ' ' \\\n",
    "                                                  + reviews_with_products_and_ratings[text_column]\n",
    "\n",
    "  reviews_with_products_and_ratings['is_helpful'] = reviews_with_products_and_ratings['helpful_votes'] > 0\n",
    "\n",
    "  print(f\"  Projecting data to the feature and label columns {final_columns}\")\n",
    "\n",
    "  final_columns.append('third_party')\n",
    "  final_columns.append('rating_id')\n",
    "  final_columns.append('product_id')\n",
    "  \n",
    "  projected_reviews = reviews_with_products_and_ratings[final_columns]\n",
    "\n",
    "  split_date = fake.date_between(start_date=datetime.date(year=2013, month=12, day=1),\n",
    "                                  end_date=datetime.date(year=2015, month=1, day=1))\n",
    "\n",
    "  print(f\"  Data preparation - temporal train/test split based on date {split_date}\")\n",
    "  train_data = projected_reviews[projected_reviews.review_date <= split_date.strftime('%Y-%m-%d')]\n",
    "  train_rating_ids = train_data.rating_id\n",
    "  train_product_ids = train_data.product_id\n",
    "  train_labels = label_binarize(train_data['is_helpful'], classes=[True, False]).ravel()\n",
    "\n",
    "  test_data = projected_reviews[projected_reviews.review_date > split_date.strftime('%Y-%m-%d')]\n",
    "  test_third_party = test_data['third_party']\n",
    "  test_labels = label_binarize(test_data['is_helpful'], classes=[True, False]).ravel()\n",
    "\n",
    "  train_data = train_data.drop(['third_party'], axis=1)\n",
    "  train_data = train_data.drop(['rating_id'], axis=1)\n",
    "  train_data = train_data.drop(['product_id'], axis=1)\n",
    "\n",
    "  test_data = test_data.drop(['third_party'], axis=1)\n",
    "  test_data = test_data.drop(['rating_id'], axis=1)\n",
    "  test_data = test_data.drop(['product_id'], axis=1)\n",
    "  \n",
    "  return train_data, train_labels, test_data, test_labels, test_third_party, train_rating_ids, train_product_ids"
   ]
  },
  {
   "cell_type": "code",
   "execution_count": 8,
   "metadata": {
    "id": "NH_bep9J-Imh"
   },
   "outputs": [],
   "source": [
    "def define_model(numerical_columns, categorical_columns):\n",
    "  print(f\"  Feature encoding - Setting up feature transformations\")\n",
    "  feature_transformation = ColumnTransformer(transformers=[\n",
    "    ('numerical_features', StandardScaler(), numerical_columns),\n",
    "    ('categorical_features', OneHotEncoder(handle_unknown='ignore'), categorical_columns),\n",
    "    ('textual_features', HashingVectorizer(ngram_range=(1, 3), n_features=100), 'text'),\n",
    "  ], remainder=\"drop\")\n",
    "\n",
    "  print(f\"  Modeling - defining a logistic regression model\")\n",
    "  sklearn_model = Pipeline([\n",
    "    ('features', feature_transformation),\n",
    "    ('learner', SGDClassifier(loss='log', penalty='l1', max_iter=1000))])\n",
    "\n",
    "  return sklearn_model"
   ]
  },
  {
   "cell_type": "markdown",
   "metadata": {
    "id": "2Fw-y6bKB-bz"
   },
   "source": [
    "\n",
    "### Task 1 - Group Fairness\n",
    "\n",
    "__Compute the fairness of the pipeline with respect to third party reviews__. In particular, compute the [equal opportunity](https://en.wikipedia.org/wiki/Fairness_(machine_learning)#Group_Fairness_criteria) metric (the difference in false negative rates) between reviews from a third party and reviews not from a third party.\n",
    "\n",
    "### Task 2 - Data Usage\n",
    "\n",
    "__Compute which records from the ratings and products relation are used to train the classifier__. Compute two boolean arrays with a dimensionality similar to the cardinality of the relations, where the entry at position i denotes whether the i-th record is included in the training data of the classifier. \n"
   ]
  },
  {
   "cell_type": "code",
   "execution_count": 9,
   "metadata": {
    "id": "atfp_zasMvgh"
   },
   "outputs": [],
   "source": [
    "def compute_equal_opportunity(model, test_data, test_labels, third_party):\n",
    "  predictions = model.predict(test_data)\n",
    "\n",
    "  third_party_false_negatives = 0\n",
    "  third_party_negatives = 0\n",
    "\n",
    "  non_third_party_false_negatives = 0\n",
    "  non_third_party_negatives = 0\n",
    "\n",
    "  # for index, prediction in enumerate(predictions):\n",
    "  #   if prediction == 0 and test_labels[index] == 1 and third_party[index] == 1:\n",
    "  #     third_party_false_negatives += 1\n",
    "  #   elif prediction == 0 and test_labels[index] == 1 and third_party[index] == 0:\n",
    "  #     non_third_party_false_negatives += 1\n",
    "\n",
    "  # compute equal opportunity metric \n",
    "  return 0.0"
   ]
  },
  {
   "cell_type": "code",
   "execution_count": 10,
   "metadata": {
    "id": "nbbZc5qk-Qnr"
   },
   "outputs": [],
   "source": [
    "def execute_pipeline(seed):\n",
    "  fake = Faker()\n",
    "  fake.seed_instance(seed)\n",
    "  np.random.seed(seed)\n",
    "\n",
    "  print('---------------------------------------------------------------------')\n",
    "  print(f'Executing pipeline with seed {seed}')\n",
    "  print('---------------------------------------------------------------------')\n",
    "\n",
    "  numerical_columns = random_subset(['total_votes', 'star_rating'])\n",
    "  categorical_columns = random_subset(['customer_id', 'product_id', 'vine', 'category'])\n",
    "  final_columns = numerical_columns + categorical_columns + ['text', 'is_helpful', 'review_date']\n",
    "\n",
    "  reviews, ratings, products, categories = load_data()\n",
    "\n",
    "  integrated_data, used_rating_ids, used_product_ids = integrate_data(reviews, ratings, products, categories, fake)\n",
    "  train_data, train_labels, test_data, test_labels, third_party, used_rating_ids, used_product_ids = \\\n",
    "      compute_feature_and_label_data(integrated_data, final_columns, fake)\n",
    "\n",
    "  sklearn_model = define_model(numerical_columns, categorical_columns)\n",
    "\n",
    "  model = sklearn_model.fit(train_data, train_labels)\n",
    "\n",
    "  # TODO these must be computed by you\n",
    "  equal_opportunity = compute_equal_opportunity(model, test_data, test_labels, third_party)\n",
    "  ratings_usage = np.isin(ratings.rating_id, used_rating_ids)\n",
    "  products_usage = np.isin(products.product_id, used_product_ids)\n",
    "\n",
    "  print('---------------------------------------------------------------------')\n",
    "  print('Train accuracy', model.score(train_data, train_labels))\n",
    "  print('Test accuracy', model.score(test_data, test_labels))\n",
    "  print(f'Equal opportunity w.r.t. third party reviews {equal_opportunity}')\n",
    "  print(f'# Number of ratings used {np.sum(ratings_usage)}')\n",
    "  print(f'# Number of products used {np.sum(products_usage)}')\n",
    "  print('---------------------------------------------------------------------\\n\\n')\n"
   ]
  },
  {
   "cell_type": "code",
   "execution_count": 11,
   "metadata": {},
   "outputs": [
    {
     "name": "stdout",
     "output_type": "stream",
     "text": [
      "---------------------------------------------------------------------\n",
      "Executing pipeline with seed 1234\n",
      "---------------------------------------------------------------------\n",
      "  Data access - Loading all four input relations from github\n",
      "  Data Integration - Dropping reviews written before 2012-11-15\n",
      "  Random categories selected: ['Digital_Video_Games']\n",
      "  Data Integration - restricting products to the following categories ['Digital_Video_Games']\n",
      "  Data Integration - joined reviews, ratings, products & categories\n",
      "  Data preparation - using columns ['review_body' 'product_title'] as textual feature \n",
      "  Projecting data to the feature and label columns ['total_votes', 'star_rating', 'category', 'vine', 'customer_id', 'text', 'is_helpful', 'review_date']\n",
      "  Data preparation - temporal train/test split based on date 2014-03-01\n",
      "  Feature encoding - Setting up feature transformations\n",
      "  Modeling - defining a logistic regression model\n",
      "---------------------------------------------------------------------\n",
      "Train accuracy 0.8447098976109215\n",
      "Test accuracy 0.8784434598343287\n",
      "Equal opportunity w.r.t. third party reviews 0.0\n",
      "# Number of ratings used 29702\n",
      "# Number of products used 3088\n",
      "---------------------------------------------------------------------\n",
      "\n",
      "\n"
     ]
    }
   ],
   "source": [
    "execute_pipeline(1234)"
   ]
  },
  {
   "cell_type": "code",
   "execution_count": 141,
   "metadata": {
    "colab": {
     "base_uri": "https://localhost:8080/"
    },
    "id": "ytf_9imO-cX-",
    "outputId": "bfbc6070-a185-454f-87e1-739e389bc9a2"
   },
   "outputs": [
    {
     "name": "stdout",
     "output_type": "stream",
     "text": [
      "---------------------------------------------------------------------\n",
      "Executing pipeline with seed 1234\n",
      "---------------------------------------------------------------------\n",
      "  Data access - Loading all four input relations from github\n",
      "  Data Integration - Dropping reviews written before 2012-11-15\n",
      "  Random categories selected: ['Digital_Video_Games']\n",
      "  Data Integration - restricting products to the following categories ['Digital_Video_Games']\n",
      "  Data Integration - joined reviews, ratings, products & categories\n",
      "  Data preparation - using columns ['review_body' 'product_title'] as textual feature \n",
      "  Projecting data to the feature and label columns ['total_votes', 'star_rating', 'category', 'vine', 'customer_id', 'text', 'is_helpful', 'review_date']\n",
      "  Data preparation - temporal train/test split based on date 2014-03-01\n",
      "  Feature encoding - Setting up feature transformations\n",
      "  Modeling - defining a logistic regression model\n",
      "---------------------------------------------------------------------\n",
      "Train accuracy 0.8447098976109215\n",
      "Test accuracy 0.8784434598343287\n",
      "Equal opportunity w.r.t. third party reviews 0.0\n",
      "# Number of ratings used 29702\n",
      "# Number of products used 3088\n",
      "---------------------------------------------------------------------\n",
      "\n",
      "\n"
     ]
    }
   ],
   "source": [
    "seeds_to_evaluate = [1234, 5678, 91011, 121314, 151617]\n",
    "\n",
    "for seed in seeds_to_evaluate:\n",
    "  execute_pipeline(seed)"
   ]
  },
  {
   "cell_type": "code",
   "execution_count": 130,
   "metadata": {
    "id": "874DXBAAFn2A"
   },
   "outputs": [],
   "source": []
  }
 ],
 "metadata": {
  "colab": {
   "collapsed_sections": [],
   "name": "david-freamon-user-study.ipynb",
   "provenance": [],
   "toc_visible": true
  },
  "kernelspec": {
   "display_name": "Python 3 (ipykernel)",
   "language": "python",
   "name": "python3"
  },
  "language_info": {
   "codemirror_mode": {
    "name": "ipython",
    "version": 3
   },
   "file_extension": ".py",
   "mimetype": "text/x-python",
   "name": "python",
   "nbconvert_exporter": "python",
   "pygments_lexer": "ipython3",
   "version": "3.9.10"
  }
 },
 "nbformat": 4,
 "nbformat_minor": 1
}

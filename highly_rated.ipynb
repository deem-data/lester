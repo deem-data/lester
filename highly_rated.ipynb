{
 "cells": [
  {
   "cell_type": "code",
   "execution_count": 1,
   "id": "b0a84cdc",
   "metadata": {},
   "outputs": [
    {
     "name": "stderr",
     "output_type": "stream",
     "text": [
      "Loading data from data sources\n",
      "Executing relational data preparation\n",
      "Splitting prepared data\n",
      "Encoding training data\n"
     ]
    },
    {
     "name": "stdout",
     "output_type": "stream",
     "text": [
      "Fitting 5 folds for each of 6 candidates, totalling 30 fits\n"
     ]
    },
    {
     "name": "stderr",
     "output_type": "stream",
     "text": [
      "Shape of X_train (42802, 3672)\n",
      "Executing model training\n",
      "Encoding test data\n",
      "Evaluating the model on test data\n",
      "Score 0.9080416802953133\n"
     ]
    }
   ],
   "source": [
    "import os\n",
    "os.environ[\"TOKENIZERS_PARALLELISM\"] = \"false\"\n",
    "\n",
    "from lester.context import datasource, prepare, split, encode_features, encode_target, model_training, run\n",
    "from sklearn.model_selection import train_test_split\n",
    "from sklearn.compose import ColumnTransformer\n",
    "from sklearn.preprocessing import FunctionTransformer, OneHotEncoder, StandardScaler, LabelEncoder\n",
    "from sentence_transformers import SentenceTransformer\n",
    "from sklearn.linear_model import SGDClassifier\n",
    "from sklearn.model_selection import GridSearchCV\n",
    "\n",
    "@prepare(\n",
    "    books=datasource('books', track_provenance=True), \n",
    "    categories=datasource('categories'),\n",
    "    book_tags=datasource('book_tags'))    \n",
    "def label_books(books, categories, book_tags):\n",
    "\n",
    "    english_books = books\\\n",
    "        .dropna()\\\n",
    "        .query(\"language_code == 'eng'\")    \n",
    "    \n",
    "    popular_categories = categories.query(\"popularity >= 10\")\n",
    "    categories_with_books = popular_categories.merge(book_tags, on='tag_id')    \n",
    "    \n",
    "    filtered_books = english_books.merge(categories_with_books, on='goodreads_book_id')\n",
    "    labeled_books = filtered_books\\\n",
    "        .assign(is_highly_rated=lambda row: row['average_rating'] > 4.2)\n",
    "\n",
    "    return labeled_books\n",
    "\n",
    "\n",
    "@split()\n",
    "def random_split(data, random_seed):\n",
    "    return train_test_split(data, test_size=0.2, random_state=random_seed)\n",
    "\n",
    "@encode_features()\n",
    "def encode_books():\n",
    "    embedding_model = SentenceTransformer(\"all-MiniLM-L6-v2\")\n",
    "\n",
    "    def embed(column_slice):\n",
    "        texts = [' '.join(column) for column in column_slice.values]\n",
    "        return embedding_model.encode(texts)\n",
    "        \n",
    "    return ColumnTransformer(transformers=[\n",
    "        ('categorical', OneHotEncoder(handle_unknown='ignore'), ['authors', 'tag_id', 'original_publication_year']),\n",
    "        ('numerical', StandardScaler(), ['work_text_reviews_count']),\n",
    "        ('embeddings', FunctionTransformer(embed), ['title']),\n",
    "    ])\n",
    "\n",
    "\n",
    "@encode_target(target_column='is_highly_rated')\n",
    "def encode_target():\n",
    "    return LabelEncoder()   \n",
    "\n",
    "@model_training()\n",
    "def logreg_with_hpo():\n",
    "    param_grid = {\n",
    "        'penalty': ['l2', 'l1'],\n",
    "        'alpha': [0.0001, 0.001, 0.01],\n",
    "    }\n",
    "\n",
    "    learner = SGDClassifier(loss='log_loss', max_iter=1000)\n",
    "    search = GridSearchCV(learner, param_grid, cv=5, verbose=1, n_jobs=-1)\n",
    "\n",
    "    return search\n",
    "\n",
    "run()    "
   ]
  },
  {
   "cell_type": "code",
   "execution_count": null,
   "id": "a3e3afdf-d1ca-4ac7-8a0a-2fd257817dac",
   "metadata": {},
   "outputs": [],
   "source": []
  },
  {
   "cell_type": "code",
   "execution_count": null,
   "id": "7071d894",
   "metadata": {},
   "outputs": [],
   "source": []
  }
 ],
 "metadata": {
  "kernelspec": {
   "display_name": "Python 3 (ipykernel)",
   "language": "python",
   "name": "python3"
  },
  "language_info": {
   "codemirror_mode": {
    "name": "ipython",
    "version": 3
   },
   "file_extension": ".py",
   "mimetype": "text/x-python",
   "name": "python",
   "nbconvert_exporter": "python",
   "pygments_lexer": "ipython3",
   "version": "3.9.18"
  }
 },
 "nbformat": 4,
 "nbformat_minor": 5
}
